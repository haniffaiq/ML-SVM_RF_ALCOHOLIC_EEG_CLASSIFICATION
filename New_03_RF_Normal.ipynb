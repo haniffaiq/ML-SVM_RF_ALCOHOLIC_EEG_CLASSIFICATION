{
 "cells": [
  {
   "cell_type": "code",
   "execution_count": 1,
   "id": "57323349-8714-41e9-8203-3bb0a00e9272",
   "metadata": {},
   "outputs": [],
   "source": [
    "import pandas as pd\n",
    "from sklearn.model_selection import train_test_split, GridSearchCV\n",
    "from sklearn.svm import SVC\n",
    "from sklearn.metrics import accuracy_score\n",
    "from sklearn.preprocessing import StandardScaler, RobustScaler, MinMaxScaler, PowerTransformer\n",
    "from tqdm import tqdm\n",
    "import matplotlib.pyplot as plt\n",
    "import seaborn as sns\n",
    "from sklearn.ensemble import RandomForestClassifier\n"
   ]
  },
  {
   "cell_type": "code",
   "execution_count": 2,
   "id": "e4aa65d7-6692-4951-8fce-c4ac4a299f86",
   "metadata": {},
   "outputs": [
    {
     "name": "stdout",
     "output_type": "stream",
     "text": [
      "      Contrast       ASM   Entropy      Mean       IDM  Label\n",
      "0    -0.816965 -0.900090 -0.142558 -1.175046 -0.022055      0\n",
      "1    -1.274434 -0.951720  1.490689 -1.529334  0.093896      0\n",
      "2    -0.623794 -0.580185  0.210644 -0.318914 -0.051175      0\n",
      "3     0.649082  3.826857  0.472046  2.139507  0.003366      0\n",
      "4     1.403916  1.258682 -0.207908  1.212904 -0.067963      0\n",
      "...        ...       ...       ...       ...       ...    ...\n",
      "1195 -0.867490 -0.841336  1.654183 -0.957182 -0.007920      1\n",
      "1196 -0.071803 -0.256930  0.646002  0.129491 -0.058552      1\n",
      "1197  2.133461  2.662386  0.599693  1.785903 -0.070643      1\n",
      "1198  1.833987  2.045457  0.893948  1.557905 -0.069676      1\n",
      "1199  2.009290  2.399706  1.311226  1.691345 -0.070242      1\n",
      "\n",
      "[1200 rows x 6 columns]\n"
     ]
    }
   ],
   "source": [
    "\n",
    "# Membaca data dari file CSV\n",
    "df = pd.read_csv('gldm_features_Data_Normal.csv')\n",
    "\n",
    "df = df.drop(columns=['Image'])\n",
    "\n",
    "# 2. Gabungkan nilai parameter yang sama dan hitung rata-ratanya\n",
    "df['Contrast'] = df[['Contrast_0', 'Contrast_45', 'Contrast_90', 'Contrast_135']].mean(axis=1)\n",
    "df['ASM'] = df[['ASM_0', 'ASM_45', 'ASM_90', 'ASM_135']].mean(axis=1)\n",
    "df['Entropy'] = df[['Entropy_0', 'Entropy_45', 'Entropy_90', 'Entropy_135']].mean(axis=1)\n",
    "df['Mean'] = df[['Mean_0', 'Mean_45', 'Mean_90', 'Mean_135']].mean(axis=1)\n",
    "df['IDM'] = df[['IDM_0', 'IDM_45', 'IDM_90', 'IDM_135']].mean(axis=1)\n",
    "\n",
    "# 3. Drop kolom-kolom yang sudah digabungkan\n",
    "df = df.drop(columns=['Contrast_0', 'Contrast_45', 'Contrast_90', 'Contrast_135',\n",
    "                      'ASM_0', 'ASM_45', 'ASM_90', 'ASM_135',\n",
    "                      'Entropy_0', 'Entropy_45', 'Entropy_90', 'Entropy_135',\n",
    "                      'Mean_0', 'Mean_45', 'Mean_90', 'Mean_135',\n",
    "                      'IDM_0', 'IDM_45', 'IDM_90', 'IDM_135'])\n",
    "df['Label'] = df.index.map(lambda x: 0 if x <= 600 else 1)\n",
    "\n",
    "\n",
    "# Tampilkan hasil dataframe baru\n",
    "print(df)"
   ]
  },
  {
   "cell_type": "code",
   "execution_count": 3,
   "id": "65b7cd49-67ea-46ef-89c3-3da8d6ab6af9",
   "metadata": {},
   "outputs": [
    {
     "name": "stdout",
     "output_type": "stream",
     "text": [
      "Akurasi Contrast\n",
      "Accuracy: 0.55\n",
      "Best SVM Model: RandomForestClassifier(max_depth=5, n_estimators=150)\n",
      "Akurasi ASM\n",
      "Accuracy: 0.5125\n",
      "Best SVM Model: RandomForestClassifier(max_depth=10, n_estimators=50)\n",
      "Akurasi Entropy\n",
      "Accuracy: 0.6625\n",
      "Best SVM Model: RandomForestClassifier(max_depth=5)\n",
      "Akurasi Mean\n",
      "Accuracy: 0.5208333333333334\n",
      "Best SVM Model: RandomForestClassifier(max_depth=5, n_estimators=50)\n",
      "Akurasi IDM\n",
      "Accuracy: 0.5083333333333333\n",
      "Best SVM Model: RandomForestClassifier(max_depth=5)\n"
     ]
    }
   ],
   "source": [
    "# Fungsi untuk melatih dan menguji model SVM dengan Grid Search\n",
    "def train_test_RF(X_train, y_train, X_test, y_test):\n",
    "    scaler = PowerTransformer()\n",
    "    X_train_scaled = scaler.fit_transform(X_train)\n",
    "    X_test_scaled = scaler.transform(X_test)\n",
    "    \n",
    "    # Daftar kombinasi hiperparameter yang akan diuji\n",
    "    param_grid = {'n_estimators': [50, 100, 150],\n",
    "                  'max_depth': [None, 5, 10]}\n",
    "    \n",
    "    rf = RandomForestClassifier()\n",
    "\n",
    "    # Mencari kombinasi hiperparameter terbaik menggunakan Grid Search\n",
    "    grid_search = GridSearchCV(rf, param_grid, cv=5)\n",
    "    grid_search.fit(X_train_scaled, y_train)\n",
    "\n",
    "    # Menggunakan model terbaik untuk prediksi\n",
    "    best_rf = grid_search.best_estimator_\n",
    "    y_pred = best_rf.predict(X_test_scaled)\n",
    "    accuracy = accuracy_score(y_test, y_pred)\n",
    "    \n",
    "    return accuracy, best_rf\n",
    "\n",
    "\n",
    "# List untuk menyimpan akurasi per parameter dan direction\n",
    "accuracies = []\n",
    "\n",
    "# Daftar parameter yang akan diuji\n",
    "parameters = ['Contrast', 'ASM', 'Entropy', 'Mean', 'IDM']\n",
    "\n",
    "\n",
    "        \n",
    "        \n",
    "for parameter in parameters:\n",
    "    X = df.filter(like=parameter)  # Memilih kolom berdasarkan parameter\n",
    "    y = df['Label']  # Kolom target adalah kolom dengan nama parameter tersebut\n",
    "    \n",
    "    # Split data menjadi data latih dan data uji\n",
    "    X_train, X_test, y_train, y_test = train_test_split(X, y, test_size=0.2, random_state=42)\n",
    "    \n",
    "    # Melatih dan menguji model SVM untuk parameter dan direction saat ini\n",
    "    accuracy, best_svm = train_test_RF(X_train, y_train, X_test, y_test)\n",
    "    accuracies.append(accuracy)\n",
    "    print(f\"Akurasi {parameter}\")\n",
    "    print(f\"Accuracy: {accuracy}\")\n",
    "    print(\"Best SVM Model:\", best_svm)\n",
    "    \n"
   ]
  },
  {
   "cell_type": "code",
   "execution_count": 4,
   "id": "f3cb98fc-ec4c-4e8a-b1f9-d5c260919ef7",
   "metadata": {
    "tags": []
   },
   "outputs": [
    {
     "name": "stdout",
     "output_type": "stream",
     "text": [
      "  Parameter   Akurasi\n",
      "0  Contrast  0.550000\n",
      "1       ASM  0.512500\n",
      "2   Entropy  0.662500\n",
      "3      Mean  0.520833\n",
      "4       IDM  0.508333\n"
     ]
    }
   ],
   "source": [
    "# Membuat DataFrame kosong\n",
    "kolom = ['Parameter','Akurasi']\n",
    "# Daftar parameter yang akan diuji\n",
    "parameters = ['Contrast', 'ASM', 'Entropy', 'Mean', 'IDM']\n",
    "\n",
    "data = {\n",
    "    kolom[0] : [parameters[0], parameters[1], parameters[2], parameters[3], parameters[4]],\n",
    "    kolom[1] : [accuracies[0], accuracies[1], accuracies[2], accuracies[3], accuracies[4]]\n",
    "}\n",
    "\n",
    "data_akurasi = pd.DataFrame(data)\n",
    "print(data_akurasi)"
   ]
  },
  {
   "cell_type": "code",
   "execution_count": null,
   "id": "f02e6d98-fbe7-4ec2-ad4a-89f3135bcdbd",
   "metadata": {},
   "outputs": [],
   "source": []
  },
  {
   "cell_type": "code",
   "execution_count": null,
   "id": "bb411fde-2a4f-400d-9c83-300fa37d2e3a",
   "metadata": {},
   "outputs": [],
   "source": []
  }
 ],
 "metadata": {
  "kernelspec": {
   "display_name": "Python 3 (ipykernel)",
   "language": "python",
   "name": "python3"
  },
  "language_info": {
   "codemirror_mode": {
    "name": "ipython",
    "version": 3
   },
   "file_extension": ".py",
   "mimetype": "text/x-python",
   "name": "python",
   "nbconvert_exporter": "python",
   "pygments_lexer": "ipython3",
   "version": "3.9.7"
  }
 },
 "nbformat": 4,
 "nbformat_minor": 5
}
