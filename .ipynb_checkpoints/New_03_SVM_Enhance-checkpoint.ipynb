{
 "cells": [
  {
   "cell_type": "code",
   "execution_count": 1,
   "id": "57323349-8714-41e9-8203-3bb0a00e9272",
   "metadata": {},
   "outputs": [],
   "source": [
    "import pandas as pd\n",
    "from sklearn.model_selection import train_test_split, GridSearchCV\n",
    "from sklearn.svm import SVC\n",
    "from sklearn.metrics import accuracy_score\n",
    "from sklearn.preprocessing import StandardScaler, RobustScaler, MinMaxScaler, PowerTransformer\n",
    "from tqdm import tqdm\n",
    "import matplotlib.pyplot as plt\n",
    "import seaborn as sns"
   ]
  },
  {
   "cell_type": "code",
   "execution_count": 2,
   "id": "e4aa65d7-6692-4951-8fce-c4ac4a299f86",
   "metadata": {},
   "outputs": [
    {
     "name": "stdout",
     "output_type": "stream",
     "text": [
      "      Contrast       ASM   Entropy      Mean       IDM  Label\n",
      "0     0.116053 -0.557690 -0.047737 -0.459268 -0.078325      0\n",
      "1    -1.469750 -1.271082  0.226403 -1.833634  0.106960      0\n",
      "2    -0.819600 -0.904269  0.329604 -0.997136 -0.017579      0\n",
      "3     2.212081  5.575218 -0.859663  3.443733  0.059382      0\n",
      "4     0.138592  0.866295 -0.117553  0.988058 -0.036714      0\n",
      "...        ...       ...       ...       ...       ...    ...\n",
      "1195 -0.581501 -0.922583  0.403023 -1.034519 -0.071007      1\n",
      "1196 -0.543533 -0.504913  0.794715 -0.441384 -0.021711      1\n",
      "1197  0.842558  1.109520  0.745241  1.161275 -0.037566      1\n",
      "1198  0.532123  1.044687  1.059606  1.100050  0.125199      1\n",
      "1199  0.951507  0.533443  1.505402  0.672751 -0.087300      1\n",
      "\n",
      "[1200 rows x 6 columns]\n"
     ]
    }
   ],
   "source": [
    "\n",
    "# Membaca data dari file CSV\n",
    "df = pd.read_csv('gldm_features_Data_Enhance.csv')\n",
    "\n",
    "df = df.drop(columns=['Image'])\n",
    "\n",
    "# 2. Gabungkan nilai parameter yang sama dan hitung rata-ratanya\n",
    "df['Contrast'] = df[['Contrast_0', 'Contrast_45', 'Contrast_90', 'Contrast_135']].mean(axis=1)\n",
    "df['ASM'] = df[['ASM_0', 'ASM_45', 'ASM_90', 'ASM_135']].mean(axis=1)\n",
    "df['Entropy'] = df[['Entropy_0', 'Entropy_45', 'Entropy_90', 'Entropy_135']].mean(axis=1)\n",
    "df['Mean'] = df[['Mean_0', 'Mean_45', 'Mean_90', 'Mean_135']].mean(axis=1)\n",
    "df['IDM'] = df[['IDM_0', 'IDM_45', 'IDM_90', 'IDM_135']].mean(axis=1)\n",
    "\n",
    "# 3. Drop kolom-kolom yang sudah digabungkan\n",
    "df = df.drop(columns=['Contrast_0', 'Contrast_45', 'Contrast_90', 'Contrast_135',\n",
    "                      'ASM_0', 'ASM_45', 'ASM_90', 'ASM_135',\n",
    "                      'Entropy_0', 'Entropy_45', 'Entropy_90', 'Entropy_135',\n",
    "                      'Mean_0', 'Mean_45', 'Mean_90', 'Mean_135',\n",
    "                      'IDM_0', 'IDM_45', 'IDM_90', 'IDM_135'])\n",
    "df['Label'] = df.index.map(lambda x: 0 if x <= 600 else 1)\n",
    "\n",
    "\n",
    "# Tampilkan hasil dataframe baru\n",
    "print(df)"
   ]
  },
  {
   "cell_type": "code",
   "execution_count": 3,
   "id": "65b7cd49-67ea-46ef-89c3-3da8d6ab6af9",
   "metadata": {},
   "outputs": [
    {
     "name": "stdout",
     "output_type": "stream",
     "text": [
      "Akurasi Contrast\n",
      "Accuracy: 0.5208333333333334\n",
      "Best SVM Model: SVC(C=1, gamma=0.1, kernel='linear')\n",
      "Akurasi ASM\n",
      "Accuracy: 0.4875\n",
      "Best SVM Model: SVC(C=100, gamma=0.01)\n",
      "Akurasi Entropy\n",
      "Accuracy: 0.7208333333333333\n",
      "Best SVM Model: SVC(C=1, gamma=0.1, kernel='linear')\n",
      "Akurasi Mean\n",
      "Accuracy: 0.5\n",
      "Best SVM Model: SVC(C=10, gamma=0.001)\n",
      "Akurasi IDM\n",
      "Accuracy: 0.5166666666666667\n",
      "Best SVM Model: SVC(C=100, gamma=0.1)\n"
     ]
    }
   ],
   "source": [
    "# Fungsi untuk melatih dan menguji model SVM dengan Grid Search\n",
    "def train_test_SVM(X_train, y_train, X_test, y_test):\n",
    "    scaler = PowerTransformer()\n",
    "    X_train_scaled = scaler.fit_transform(X_train)\n",
    "    X_test_scaled = scaler.transform(X_test)\n",
    "    \n",
    "    # Daftar kombinasi hiperparameter yang akan diuji\n",
    "    param_grid = {'C': [1, 10, 100],\n",
    "                  'gamma': [0.1, 0.01, 0.001],\n",
    "                  'kernel': ['rbf', 'linear', 'poly']}\n",
    "    \n",
    "    svm = SVC()\n",
    "\n",
    "    # Mencari kombinasi hiperparameter terbaik menggunakan Grid Search\n",
    "    grid_search = GridSearchCV(svm, param_grid, cv=5)\n",
    "    grid_search.fit(X_train_scaled, y_train)\n",
    "\n",
    "    # Menggunakan model terbaik untuk prediksi\n",
    "    best_svm = grid_search.best_estimator_\n",
    "    y_pred = best_svm.predict(X_test_scaled)\n",
    "    accuracy = accuracy_score(y_test, y_pred)\n",
    "    \n",
    "    return accuracy, best_svm\n",
    "\n",
    "\n",
    "# List untuk menyimpan akurasi per parameter dan direction\n",
    "accuracies = []\n",
    "\n",
    "# Daftar parameter yang akan diuji\n",
    "parameters = ['Contrast', 'ASM', 'Entropy', 'Mean', 'IDM']\n",
    "\n",
    "\n",
    "        \n",
    "        \n",
    "for parameter in parameters:\n",
    "    X = df.filter(like=parameter)  # Memilih kolom berdasarkan parameter\n",
    "    y = df['Label']  # Kolom target adalah kolom dengan nama parameter tersebut\n",
    "    \n",
    "    # Split data menjadi data latih dan data uji\n",
    "    X_train, X_test, y_train, y_test = train_test_split(X, y, test_size=0.2, random_state=42)\n",
    "    \n",
    "    # Melatih dan menguji model SVM untuk parameter dan direction saat ini\n",
    "    accuracy, best_svm = train_test_SVM(X_train, y_train, X_test, y_test)\n",
    "    accuracies.append(accuracy)\n",
    "    print(f\"Akurasi {parameter}\")\n",
    "    print(f\"Accuracy: {accuracy}\")\n",
    "    print(\"Best SVM Model:\", best_svm)\n",
    "    \n"
   ]
  },
  {
   "cell_type": "code",
   "execution_count": 12,
   "id": "f3cb98fc-ec4c-4e8a-b1f9-d5c260919ef7",
   "metadata": {
    "tags": []
   },
   "outputs": [
    {
     "name": "stdout",
     "output_type": "stream",
     "text": [
      "  Parameter   Akurasi\n",
      "0  Contrast  0.520833\n",
      "1       ASM  0.487500\n",
      "2   Entropy  0.720833\n",
      "3      Mean  0.500000\n",
      "4       IDM  0.516667\n"
     ]
    }
   ],
   "source": [
    "# Membuat DataFrame kosong\n",
    "kolom = ['Parameter','Akurasi']\n",
    "# Daftar parameter yang akan diuji\n",
    "parameters = ['Contrast', 'ASM', 'Entropy', 'Mean', 'IDM']\n",
    "\n",
    "data = {\n",
    "    kolom[0] : [parameters[0], parameters[1], parameters[2], parameters[3], parameters[4]],\n",
    "    kolom[1] : [accuracies[0], accuracies[1], accuracies[2], accuracies[3], accuracies[4]]\n",
    "}\n",
    "\n",
    "data_akurasi = pd.DataFrame(data)\n",
    "print(data_akurasi)"
   ]
  },
  {
   "cell_type": "code",
   "execution_count": null,
   "id": "f02e6d98-fbe7-4ec2-ad4a-89f3135bcdbd",
   "metadata": {},
   "outputs": [],
   "source": []
  },
  {
   "cell_type": "code",
   "execution_count": null,
   "id": "bb411fde-2a4f-400d-9c83-300fa37d2e3a",
   "metadata": {},
   "outputs": [],
   "source": []
  }
 ],
 "metadata": {
  "kernelspec": {
   "display_name": "Python 3 (ipykernel)",
   "language": "python",
   "name": "python3"
  },
  "language_info": {
   "codemirror_mode": {
    "name": "ipython",
    "version": 3
   },
   "file_extension": ".py",
   "mimetype": "text/x-python",
   "name": "python",
   "nbconvert_exporter": "python",
   "pygments_lexer": "ipython3",
   "version": "3.9.7"
  }
 },
 "nbformat": 4,
 "nbformat_minor": 5
}
