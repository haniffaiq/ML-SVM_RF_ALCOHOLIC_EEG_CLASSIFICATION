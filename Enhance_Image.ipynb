{
 "cells": [
  {
   "cell_type": "code",
   "execution_count": 1,
   "id": "b531dc75-3bc2-4e43-8f3a-9e94ce2ed2b0",
   "metadata": {
    "tags": []
   },
   "outputs": [
    {
     "name": "stderr",
     "output_type": "stream",
     "text": [
      "Loading Export Enhancement Images: 100%|██████████████████████████████████████████████████████████████████████████████████████████████████████████████████████████████████████████████████| 1201/1201 [00:00<00:00, 1308.54it/s]\n"
     ]
    }
   ],
   "source": [
    "import cv2\n",
    "import os\n",
    "import numpy as np\n",
    "from tqdm import tqdm\n",
    "\n",
    "# Set the path for the input folder containing grayscale images\n",
    "input_path = 'Data_Normal/'\n",
    "\n",
    "# Set the path for the output folder where the enhanced images will be saved\n",
    "output_path = 'Data_Enhance/'\n",
    "\n",
    "# Define the new range for contrast stretching\n",
    "new_min_val = 64\n",
    "new_max_val = 256\n",
    "\n",
    "# Loop through each file in the input folder\n",
    "for filename in  tqdm(os.listdir(input_path), desc='Loading Export Enhancement Images'):\n",
    "\n",
    "    # Check if the file is an image\n",
    "    if filename.endswith('.jpg') or filename.endswith('.jpeg') or filename.endswith('.png'):\n",
    "\n",
    "        # Load the image in grayscale\n",
    "        img = cv2.imread(os.path.join(input_path, filename), cv2.IMREAD_GRAYSCALE)\n",
    "\n",
    "        # Calculate minimum and maximum pixel values\n",
    "        min_val, max_val, _, _ = cv2.minMaxLoc(img)\n",
    "\n",
    "        # Calculate new pixel values\n",
    "        new_img = np.uint8((img - min_val) * (new_max_val - new_min_val) / (max_val - min_val) + new_min_val)\n",
    "\n",
    "        # Save the enhanced image to the output folder\n",
    "        cv2.imwrite(os.path.join(output_path, filename), new_img)\n",
    "\n"
   ]
  }
 ],
 "metadata": {
  "kernelspec": {
   "display_name": "Python 3 (ipykernel)",
   "language": "python",
   "name": "python3"
  },
  "language_info": {
   "codemirror_mode": {
    "name": "ipython",
    "version": 3
   },
   "file_extension": ".py",
   "mimetype": "text/x-python",
   "name": "python",
   "nbconvert_exporter": "python",
   "pygments_lexer": "ipython3",
   "version": "3.9.7"
  }
 },
 "nbformat": 4,
 "nbformat_minor": 5
}
