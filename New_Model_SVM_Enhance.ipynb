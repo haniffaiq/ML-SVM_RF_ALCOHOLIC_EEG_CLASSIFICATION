{
 "cells": [
  {
   "cell_type": "code",
   "execution_count": 1,
   "id": "57323349-8714-41e9-8203-3bb0a00e9272",
   "metadata": {},
   "outputs": [],
   "source": [
    "import pandas as pd\n",
    "from sklearn.model_selection import train_test_split, GridSearchCV\n",
    "from sklearn.svm import SVC\n",
    "from sklearn.metrics import accuracy_score\n",
    "from sklearn.preprocessing import StandardScaler, RobustScaler, MinMaxScaler, PowerTransformer\n",
    "from tqdm import tqdm\n",
    "import matplotlib.pyplot as plt\n",
    "import seaborn as sns"
   ]
  },
  {
   "cell_type": "code",
   "execution_count": 2,
   "id": "e4aa65d7-6692-4951-8fce-c4ac4a299f86",
   "metadata": {},
   "outputs": [
    {
     "name": "stderr",
     "output_type": "stream",
     "text": [
      "C:\\Users\\hanif\\AppData\\Local\\Temp\\ipykernel_10780\\3336776921.py:12: SettingWithCopyWarning: \n",
      "A value is trying to be set on a copy of a slice from a DataFrame.\n",
      "Try using .loc[row_indexer,col_indexer] = value instead\n",
      "\n",
      "See the caveats in the documentation: https://pandas.pydata.org/pandas-docs/stable/user_guide/indexing.html#returning-a-view-versus-a-copy\n",
      "  df_direction['Label'] = df.index.map(lambda x: 0 if x <= 600 else 1)\n",
      "C:\\Users\\hanif\\AppData\\Local\\Temp\\ipykernel_10780\\3336776921.py:12: SettingWithCopyWarning: \n",
      "A value is trying to be set on a copy of a slice from a DataFrame.\n",
      "Try using .loc[row_indexer,col_indexer] = value instead\n",
      "\n",
      "See the caveats in the documentation: https://pandas.pydata.org/pandas-docs/stable/user_guide/indexing.html#returning-a-view-versus-a-copy\n",
      "  df_direction['Label'] = df.index.map(lambda x: 0 if x <= 600 else 1)\n",
      "C:\\Users\\hanif\\AppData\\Local\\Temp\\ipykernel_10780\\3336776921.py:12: SettingWithCopyWarning: \n",
      "A value is trying to be set on a copy of a slice from a DataFrame.\n",
      "Try using .loc[row_indexer,col_indexer] = value instead\n",
      "\n",
      "See the caveats in the documentation: https://pandas.pydata.org/pandas-docs/stable/user_guide/indexing.html#returning-a-view-versus-a-copy\n",
      "  df_direction['Label'] = df.index.map(lambda x: 0 if x <= 600 else 1)\n",
      "C:\\Users\\hanif\\AppData\\Local\\Temp\\ipykernel_10780\\3336776921.py:12: SettingWithCopyWarning: \n",
      "A value is trying to be set on a copy of a slice from a DataFrame.\n",
      "Try using .loc[row_indexer,col_indexer] = value instead\n",
      "\n",
      "See the caveats in the documentation: https://pandas.pydata.org/pandas-docs/stable/user_guide/indexing.html#returning-a-view-versus-a-copy\n",
      "  df_direction['Label'] = df.index.map(lambda x: 0 if x <= 600 else 1)\n"
     ]
    },
    {
     "ename": "AttributeError",
     "evalue": "'list' object has no attribute 'columns'",
     "output_type": "error",
     "traceback": [
      "\u001b[1;31m---------------------------------------------------------------------------\u001b[0m",
      "\u001b[1;31mAttributeError\u001b[0m                            Traceback (most recent call last)",
      "Cell \u001b[1;32mIn[2], line 15\u001b[0m\n\u001b[0;32m     12\u001b[0m     df_direction[\u001b[38;5;124m'\u001b[39m\u001b[38;5;124mLabel\u001b[39m\u001b[38;5;124m'\u001b[39m] \u001b[38;5;241m=\u001b[39m df\u001b[38;5;241m.\u001b[39mindex\u001b[38;5;241m.\u001b[39mmap(\u001b[38;5;28;01mlambda\u001b[39;00m x: \u001b[38;5;241m0\u001b[39m \u001b[38;5;28;01mif\u001b[39;00m x \u001b[38;5;241m<\u001b[39m\u001b[38;5;241m=\u001b[39m \u001b[38;5;241m600\u001b[39m \u001b[38;5;28;01melse\u001b[39;00m \u001b[38;5;241m1\u001b[39m)\n\u001b[0;32m     13\u001b[0m     dataframes\u001b[38;5;241m.\u001b[39mappend(df_direction)\n\u001b[1;32m---> 15\u001b[0m \u001b[38;5;28mprint\u001b[39m(\u001b[43mdataframes\u001b[49m\u001b[38;5;241;43m.\u001b[39;49m\u001b[43mcolumns\u001b[49m())\n",
      "\u001b[1;31mAttributeError\u001b[0m: 'list' object has no attribute 'columns'"
     ]
    }
   ],
   "source": [
    "\n",
    "# Membaca data dari file CSV\n",
    "df = pd.read_csv('gldm_features_Data_Enhance.csv')\n",
    "\n",
    "# Membagi data menjadi beberapa dataframe berdasarkan arah\n",
    "directions = ['0', '45', '90', '135']\n",
    "dataframes = []\n",
    "\n",
    "for direction in directions:\n",
    "    cols = [f'Contrast_{direction}', f'ASM_{direction}', f'Entropy_{direction}', f'Mean_{direction}',\n",
    "            f'IDM_{direction}']\n",
    "    df_direction = df[['Image'] + cols]\n",
    "    df_direction['Label'] = df.index.map(lambda x: 0 if x <= 600 else 1)\n",
    "    dataframes.append(df_direction)\n",
    "\n"
   ]
  },
  {
   "cell_type": "code",
   "execution_count": null,
   "id": "65b7cd49-67ea-46ef-89c3-3da8d6ab6af9",
   "metadata": {},
   "outputs": [],
   "source": [
    "# Fungsi untuk melatih dan menguji model SVM dengan Grid Search\n",
    "def train_test_SVM(X_train, y_train, X_test, y_test):\n",
    "    scaler = PowerTransformer()\n",
    "    X_train_scaled = scaler.fit_transform(X_train)\n",
    "    X_test_scaled = scaler.transform(X_test)\n",
    "    \n",
    "    # Daftar kombinasi hiperparameter yang akan diuji\n",
    "    param_grid = {'C': [1, 10, 100],\n",
    "                  'gamma': [0.1, 0.01, 0.001],\n",
    "                  'kernel': ['rbf', 'linear', 'poly']}\n",
    "    \n",
    "    svm = SVC()\n",
    "\n",
    "    # Mencari kombinasi hiperparameter terbaik menggunakan Grid Search\n",
    "    grid_search = GridSearchCV(svm, param_grid, cv=5)\n",
    "    grid_search.fit(X_train_scaled, y_train)\n",
    "\n",
    "    # Menggunakan model terbaik untuk prediksi\n",
    "    best_svm = grid_search.best_estimator_\n",
    "    y_pred = best_svm.predict(X_test_scaled)\n",
    "    accuracy = accuracy_score(y_test, y_pred)\n",
    "    \n",
    "    return accuracy, best_svm\n",
    "\n",
    "\n",
    "# List untuk menyimpan akurasi per parameter dan direction\n",
    "accuracies = []\n",
    "\n",
    "# Daftar parameter yang akan diuji\n",
    "parameters = ['Contrast', 'ASM', 'Entropy', 'Mean', 'IDM']\n",
    "\n",
    "# Melakukan train dan test untuk setiap parameter dan direction\n",
    "for parameter in parameters:\n",
    "    for i, df_direction in enumerate(dataframes):\n",
    "        # Memilih kolom dataframe sesuai parameter\n",
    "        cols = [col for col in df_direction.columns if parameter in col]\n",
    "        df_parameter_direction = df_direction[['Image', 'Label'] + cols]\n",
    "        \n",
    "        X = df_parameter_direction.drop(['Image', 'Label'], axis=1)\n",
    "        y = df_parameter_direction['Label']\n",
    "        \n",
    "        X_train, X_test, y_train, y_test = train_test_split(X, y, test_size=0.2, random_state=42)\n",
    "        \n",
    "        accuracy, best_svm = train_test_SVM(X_train, y_train, X_test, y_test)\n",
    "        accuracies.append(accuracy)\n",
    "        \n",
    "        print(f\"Akurasi {parameter} Direction {directions[i]}\")\n",
    "        #print(df_parameter_direction)\n",
    "        \n",
    "        print(f\"Accuracy: {accuracy}\")\n",
    "        print(\"Best SVM Model:\", best_svm)\n",
    "        print()"
   ]
  },
  {
   "cell_type": "code",
   "execution_count": null,
   "id": "f3cb98fc-ec4c-4e8a-b1f9-d5c260919ef7",
   "metadata": {
    "tags": []
   },
   "outputs": [],
   "source": [
    "# Membuat DataFrame kosong\n",
    "results_df = pd.DataFrame(columns=['Parameter', '0', '45', '90', '135', 'Average'])\n",
    "\n",
    "# Daftar parameter yang akan diuji\n",
    "parameters = ['Contrast', 'ASM', 'Entropy', 'Mean', 'IDM']\n",
    "\n",
    "# Melakukan iterasi untuk setiap parameter\n",
    "for i, parameter in enumerate(parameters):\n",
    "    # Menambahkan baris baru ke DataFrame\n",
    "    results_df.loc[i] = [parameter] + accuracies[i*4:(i+1)*4] + [sum(accuracies[i*4:(i+1)*4])/4]\n",
    "\n",
    "# Menampilkan DataFrame hasil\n",
    "print(results_df)"
   ]
  },
  {
   "cell_type": "code",
   "execution_count": null,
   "id": "f02e6d98-fbe7-4ec2-ad4a-89f3135bcdbd",
   "metadata": {},
   "outputs": [],
   "source": []
  }
 ],
 "metadata": {
  "kernelspec": {
   "display_name": "Python 3 (ipykernel)",
   "language": "python",
   "name": "python3"
  },
  "language_info": {
   "codemirror_mode": {
    "name": "ipython",
    "version": 3
   },
   "file_extension": ".py",
   "mimetype": "text/x-python",
   "name": "python",
   "nbconvert_exporter": "python",
   "pygments_lexer": "ipython3",
   "version": "3.9.7"
  }
 },
 "nbformat": 4,
 "nbformat_minor": 5
}
